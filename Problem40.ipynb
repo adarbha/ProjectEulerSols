{
 "cells": [
  {
   "cell_type": "markdown",
   "metadata": {},
   "source": [
    "An irrational decimal fraction is created by concatenating the positive integers:\n",
    "\n",
    "0.123456789101112131415161718192021...\n",
    "\n",
    "It can be seen that the 12th digit of the fractional part is 1.\n",
    "\n",
    "If dn represents the nth digit of the fractional part, find the value of the following expression.\n",
    "\n",
    "d1 × d_10 × d_100 × d_1000 × d_10000 × d_100000 × d_1000000"
   ]
  },
  {
   "cell_type": "code",
   "execution_count": 13,
   "metadata": {},
   "outputs": [
    {
     "name": "stdout",
     "output_type": "stream",
     "text": [
      "1\n",
      "1\n",
      "5\n",
      "3\n",
      "7\n",
      "2\n",
      "1\n"
     ]
    }
   ],
   "source": [
    "length = 0\n",
    "i = 1\n",
    "s = str(i)\n",
    "\n",
    "indices = [1,10,100,1000,10000,100000,1000000]\n",
    "\n",
    "while(length <= max(indices)):\n",
    "    i+=1\n",
    "    s+=str(i)\n",
    "    length = len(s)\n",
    "    \n",
    "prod = 1    \n",
    "    \n",
    "for ind in indices:\n",
    "    print(s[ind - 1])\n",
    "    prod = prod * int(s[ind - 1])\n",
    "    \n",
    "    "
   ]
  },
  {
   "cell_type": "code",
   "execution_count": 14,
   "metadata": {},
   "outputs": [
    {
     "data": {
      "text/plain": [
       "210"
      ]
     },
     "execution_count": 14,
     "metadata": {},
     "output_type": "execute_result"
    }
   ],
   "source": [
    "prod"
   ]
  },
  {
   "cell_type": "code",
   "execution_count": null,
   "metadata": {},
   "outputs": [],
   "source": []
  }
 ],
 "metadata": {
  "kernelspec": {
   "display_name": "Python 3",
   "language": "python",
   "name": "python3"
  },
  "language_info": {
   "codemirror_mode": {
    "name": "ipython",
    "version": 3
   },
   "file_extension": ".py",
   "mimetype": "text/x-python",
   "name": "python",
   "nbconvert_exporter": "python",
   "pygments_lexer": "ipython3",
   "version": "3.6.2"
  }
 },
 "nbformat": 4,
 "nbformat_minor": 2
}
