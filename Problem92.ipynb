{
 "cells": [
  {
   "cell_type": "markdown",
   "metadata": {},
   "source": [
    "A number chain is created by continuously adding the square of the digits in a number to form a new number until it has been seen before.\n",
    "\n",
    "For example,\n",
    "\n",
    "44 → 32 → 13 → 10 → 1 → 1\n",
    "85 → 89 → 145 → 42 → 20 → 4 → 16 → 37 → 58 → 89\n",
    "\n",
    "Therefore any chain that arrives at 1 or 89 will become stuck in an endless loop. What is most amazing is that EVERY starting number will eventually arrive at 1 or 89.\n",
    "\n",
    "How many starting numbers below ten million will arrive at 89?"
   ]
  },
  {
   "cell_type": "code",
   "execution_count": 19,
   "metadata": {},
   "outputs": [],
   "source": [
    "#!pip3 install sortedcontainers\n",
    "\n",
    "'''Takes approx 5min to run'''\n",
    "\n",
    "def square_add(x):\n",
    "    \n",
    "    return sum([(int(i) ** 2) for i in str(x)])"
   ]
  },
  {
   "cell_type": "code",
   "execution_count": 158,
   "metadata": {},
   "outputs": [],
   "source": [
    "import numpy as np\n",
    "from itertools import permutations\n",
    "from sortedcontainers import SortedList\n",
    "\n",
    "def cal_sq_chain_end_point(x,list_1,list_89):\n",
    "    \n",
    "    while(((x != 89)) & ((x != 1))):\n",
    "        x = square_add(x)\n",
    "        \n",
    "        if x in list_1:\n",
    "            x = 1\n",
    "            break\n",
    "        \n",
    "        if x in list_89:\n",
    "            x = 89\n",
    "            break\n",
    "\n",
    "    return(x)\n",
    "\n",
    "def cal_number_from_tup(tup):\n",
    "    res = 0\n",
    "    for i,ele in enumerate(tup[::-1]):\n",
    "        res = res + int(ele) * (10 ** i) \n",
    "    return(res)\n",
    "\n",
    "def cal_permutations(num):\n",
    "    res = []\n",
    "    for i in permutations(str(num)):\n",
    "        res.append(cal_number_from_tup(i))\n",
    "    return res\n",
    "        \n",
    "    "
   ]
  },
  {
   "cell_type": "code",
   "execution_count": 159,
   "metadata": {},
   "outputs": [
    {
     "name": "stdout",
     "output_type": "stream",
     "text": [
      "List_89 length: 8581146\n",
      "List_1 length: 1418854\n"
     ]
    }
   ],
   "source": [
    "grand_list_89 = set()\n",
    "grand_list_1 = set()\n",
    "MIL_10 = int(1e7)\n",
    "\n",
    "for i in range(1,10000001):\n",
    "    \n",
    "    if (i in grand_list_89):\n",
    "        grand_list_89.add(i)\n",
    "        continue\n",
    "        \n",
    "    if (i in grand_list_1):\n",
    "        grand_list_1.add(i)\n",
    "        continue\n",
    "    \n",
    "    temp = cal_sq_chain_end_point(i,grand_list_1,grand_list_89)\n",
    "    \n",
    "    if temp == 1:\n",
    "        grand_list_1 |= set(cal_permutations(i))\n",
    "        \n",
    "    if temp == 89:\n",
    "        grand_list_89 |= set(cal_permutations(i))\n",
    "        \n",
    "print(\"List_89 length: {}\".format(len(grand_list_89)))   \n",
    "print(\"List_1 length: {}\".format(len(grand_list_1)))    \n",
    "    "
   ]
  },
  {
   "cell_type": "code",
   "execution_count": null,
   "metadata": {},
   "outputs": [],
   "source": []
  }
 ],
 "metadata": {
  "kernelspec": {
   "display_name": "Python 3",
   "language": "python",
   "name": "python3"
  },
  "language_info": {
   "codemirror_mode": {
    "name": "ipython",
    "version": 3
   },
   "file_extension": ".py",
   "mimetype": "text/x-python",
   "name": "python",
   "nbconvert_exporter": "python",
   "pygments_lexer": "ipython3",
   "version": "3.6.2"
  }
 },
 "nbformat": 4,
 "nbformat_minor": 2
}
