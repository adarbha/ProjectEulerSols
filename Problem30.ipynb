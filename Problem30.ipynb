{
 "cells": [
  {
   "cell_type": "markdown",
   "metadata": {},
   "source": [
    "Surprisingly there are only three numbers that can be written as the sum of fourth powers of their digits:\n",
    "\n",
    "1634 = 14 + 64 + 34 + 44\n",
    "8208 = 84 + 24 + 04 + 84\n",
    "9474 = 94 + 44 + 74 + 44\n",
    "As 1 = 14 is not a sum it is not included.\n",
    "\n",
    "The sum of these numbers is 1634 + 8208 + 9474 = 19316.\n",
    "\n",
    "Find the sum of all the numbers that can be written as the sum of fifth powers of their digits."
   ]
  },
  {
   "cell_type": "code",
   "execution_count": 41,
   "metadata": {},
   "outputs": [
    {
     "name": "stdout",
     "output_type": "stream",
     "text": [
      "240559\n",
      "CPU times: user 378 ms, sys: 983 µs, total: 379 ms\n",
      "Wall time: 378 ms\n"
     ]
    }
   ],
   "source": [
    "%%time\n",
    "from itertools import product\n",
    "\n",
    "def calculate_num(tup):\n",
    "    return 10000 * int(tup[0]) + 1000 * int(tup[1]) + 100 * int(tup[2]) + 10 * int(tup[3]) + int(tup[4])\n",
    "\n",
    "def calculate_exp_sum(tup):\n",
    "    temp = [int(i) ** 5 for i in tup]\n",
    "    return sum(temp)\n",
    "\n",
    "res = []\n",
    "for number in range(10000,100000):\n",
    "        \n",
    "    if number == calculate_exp_sum(tuple(str(number))):\n",
    "        res.append(number)\n",
    "        \n",
    "        \n",
    "print(sum(res))"
   ]
  },
  {
   "cell_type": "code",
   "execution_count": 29,
   "metadata": {},
   "outputs": [
    {
     "data": {
      "text/plain": [
       "240559"
      ]
     },
     "execution_count": 29,
     "metadata": {},
     "output_type": "execute_result"
    }
   ],
   "source": [
    "sum(res)"
   ]
  },
  {
   "cell_type": "code",
   "execution_count": 90,
   "metadata": {},
   "outputs": [
    {
     "name": "stdout",
     "output_type": "stream",
     "text": [
      "443839\n",
      "CPU times: user 5.26 s, sys: 7.38 ms, total: 5.26 s\n",
      "Wall time: 5.27 s\n"
     ]
    }
   ],
   "source": [
    "%%time\n",
    "from itertools import product\n",
    "\n",
    "def calculate_num(tup):\n",
    "    n = len(tup)\n",
    "    s = 0\n",
    "    for i in range(n):\n",
    "        s = s + tup[-i-1] * (10 ** i)\n",
    "    return(s)\n",
    "    \n",
    "def calculate_exp_sum(tup):\n",
    "    temp = [int(i) ** 5 for i in tup]\n",
    "    return sum(temp)\n",
    "\n",
    "res = []\n",
    "for number in range(1000000):\n",
    "        \n",
    "    if number == calculate_exp_sum(tuple(str(number))):\n",
    "        res.append(number)\n",
    "        \n",
    "        \n",
    "print(sum(res) - 1)"
   ]
  },
  {
   "cell_type": "code",
   "execution_count": 75,
   "metadata": {},
   "outputs": [
    {
     "data": {
      "text/plain": [
       "[0, 1, 4150, 4151, 54748, 92727, 93084, 194979]"
      ]
     },
     "execution_count": 75,
     "metadata": {},
     "output_type": "execute_result"
    }
   ],
   "source": [
    "res"
   ]
  },
  {
   "cell_type": "code",
   "execution_count": 66,
   "metadata": {},
   "outputs": [
    {
     "data": {
      "text/plain": [
       "242698"
      ]
     },
     "execution_count": 66,
     "metadata": {},
     "output_type": "execute_result"
    }
   ],
   "source": [
    "calculate_num((2,4,2,6,9,8))"
   ]
  },
  {
   "cell_type": "code",
   "execution_count": 89,
   "metadata": {},
   "outputs": [
    {
     "data": {
      "text/plain": [
       "413343"
      ]
     },
     "execution_count": 89,
     "metadata": {},
     "output_type": "execute_result"
    }
   ],
   "source": [
    "7 * (9 ** 5)"
   ]
  },
  {
   "cell_type": "code",
   "execution_count": null,
   "metadata": {},
   "outputs": [],
   "source": []
  }
 ],
 "metadata": {
  "kernelspec": {
   "display_name": "Python 3",
   "language": "python",
   "name": "python3"
  },
  "language_info": {
   "codemirror_mode": {
    "name": "ipython",
    "version": 3
   },
   "file_extension": ".py",
   "mimetype": "text/x-python",
   "name": "python",
   "nbconvert_exporter": "python",
   "pygments_lexer": "ipython3",
   "version": "3.6.2"
  }
 },
 "nbformat": 4,
 "nbformat_minor": 2
}
