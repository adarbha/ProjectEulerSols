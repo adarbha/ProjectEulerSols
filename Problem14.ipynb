{
 "cells": [
  {
   "cell_type": "markdown",
   "metadata": {},
   "source": [
    "The following iterative sequence is defined for the set of positive integers:\n",
    "\n",
    "n → n/2 (n is even)\n",
    "n → 3n + 1 (n is odd)\n",
    "\n",
    "Using the rule above and starting with 13, we generate the following sequence:\n",
    "\n",
    "13 → 40 → 20 → 10 → 5 → 16 → 8 → 4 → 2 → 1\n",
    "It can be seen that this sequence (starting at 13 and finishing at 1) contains 10 terms. Although it has not been proved yet (Collatz Problem), it is thought that all starting numbers finish at 1.\n",
    "\n",
    "Which starting number, under one million, produces the longest chain?\n",
    "\n",
    "NOTE: Once the chain starts the terms are allowed to go above one million."
   ]
  },
  {
   "cell_type": "code",
   "execution_count": 159,
   "metadata": {},
   "outputs": [],
   "source": [
    "def calculate_collatz(n,support_map=dict()):\n",
    "    length = 1\n",
    "      \n",
    "    while(n != 1):\n",
    "#         print(n)\n",
    "        if (n % 2) == 0:\n",
    "            n = n / 2\n",
    "        else:\n",
    "            n = 3*n + 1\n",
    "            \n",
    "        length+=1\n",
    "        \n",
    "        \n",
    "        if n in support_map:\n",
    "#             print(support_map)\n",
    "            length = length + support_map[n]\n",
    "            break\n",
    "              \n",
    "                \n",
    "        \n",
    "    \n",
    "    return(length)  "
   ]
  },
  {
   "cell_type": "code",
   "execution_count": 170,
   "metadata": {},
   "outputs": [
    {
     "name": "stdout",
     "output_type": "stream",
     "text": [
      "Max number is: 837799, Max length is: 525\n"
     ]
    }
   ],
   "source": [
    "coll_length = 0\n",
    "max_coll_length = 0\n",
    "max_num = 0\n",
    "support_map = dict()\n",
    "for num in range(2,1000000):\n",
    "    coll_length = calculate_collatz(num)\n",
    "#     support_map[num] = coll_length\n",
    "    \n",
    "    if coll_length > max_coll_length:\n",
    "        max_coll_length = coll_length\n",
    "        max_num = num        \n",
    "\n",
    "print(\"Max number is: {}, Max length is: {}\".format(max_num,max_coll_length))"
   ]
  },
  {
   "cell_type": "code",
   "execution_count": 154,
   "metadata": {},
   "outputs": [
    {
     "data": {
      "text/plain": [
       "{2: 2, 3: 10, 4: 5, 5: 10}"
      ]
     },
     "execution_count": 154,
     "metadata": {},
     "output_type": "execute_result"
    }
   ],
   "source": [
    "support_map"
   ]
  },
  {
   "cell_type": "code",
   "execution_count": 168,
   "metadata": {},
   "outputs": [
    {
     "data": {
      "text/plain": [
       "262"
      ]
     },
     "execution_count": 168,
     "metadata": {},
     "output_type": "execute_result"
    }
   ],
   "source": [
    "calculate_collatz(6171)"
   ]
  },
  {
   "cell_type": "code",
   "execution_count": 77,
   "metadata": {},
   "outputs": [
    {
     "data": {
      "text/plain": [
       "289"
      ]
     },
     "execution_count": 77,
     "metadata": {},
     "output_type": "execute_result"
    }
   ],
   "source": [
    "max(support_map.values())"
   ]
  },
  {
   "cell_type": "code",
   "execution_count": null,
   "metadata": {},
   "outputs": [],
   "source": []
  }
 ],
 "metadata": {
  "kernelspec": {
   "display_name": "Python 3",
   "language": "python",
   "name": "python3"
  },
  "language_info": {
   "codemirror_mode": {
    "name": "ipython",
    "version": 3
   },
   "file_extension": ".py",
   "mimetype": "text/x-python",
   "name": "python",
   "nbconvert_exporter": "python",
   "pygments_lexer": "ipython3",
   "version": "3.6.2"
  }
 },
 "nbformat": 4,
 "nbformat_minor": 2
}
