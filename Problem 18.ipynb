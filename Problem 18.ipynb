{
 "cells": [
  {
   "cell_type": "code",
   "execution_count": 44,
   "metadata": {},
   "outputs": [
    {
     "name": "stdout",
     "output_type": "stream",
     "text": [
      "<!DOCTYPE html>\n",
      "<html lang=\"en\">\n",
      " <head>\n",
      "  <meta charset=\"utf-8\"/>\n",
      "  <meta content=\"Colin Hughes\" name=\"author\"/>\n",
      "  <meta content=\"A website dedicated to the fascinating world of mathematics and programming\" name=\"description\"/>\n",
      "  <meta content=\"programming,mathematics,problems,puzzles\" name=\"keywords\"/>\n",
      "  <title>\n",
      "   Problem 18 - Project Euler\n",
      "  </title>\n",
      "  <link href=\"favicon.ico\" rel=\"shortcut icon\"/>\n",
      "  <link href=\"themes/20180507/style_default.css\" rel=\"stylesheet\" type=\"text/css\"/>\n",
      "  <script type=\"text/x-mathjax-config\">\n",
      "   MathJax.Hub.Config({\r\n",
      "      jax: [\"input/TeX\", \"output/HTML-CSS\"],\r\n",
      "      tex2jax: {\r\n",
      "         inlineMath: [ [\"$\",\"$\"], [\"\\\\(\",\"\\\\)\"] ],\r\n",
      "         displayMath: [ [\"$$\",\"$$\"], [\"\\\\[\",\"\\\\]\"] ],\r\n",
      "         processEscapes: true\r\n",
      "      },\r\n",
      "      \"HTML-CSS\": { availableFonts: [\"TeX\"] }\r\n",
      "   });\n",
      "  </script>\n",
      "  <script async=\"\" src=\"https://cdnjs.cloudflare.com/ajax/libs/mathjax/2.7.4/MathJax.js?config=TeX-AMS_HTML-full,Safe\">\n",
      "  </script>\n",
      " </head>\n",
      " <body>\n",
      "  <div id=\"container\">\n",
      "   <div class=\"noprint\" id=\"header\">\n",
      "    <div class=\"noprint\" id=\"nav\">\n",
      "     <ul>\n",
      "      <li>\n",
      "       <a accesskey=\"h\" href=\"about\" title=\"About\">\n",
      "        About\n",
      "       </a>\n",
      "      </li>\n",
      "      <li id=\"current\">\n",
      "       <a accesskey=\"1\" href=\"archives\" title=\"Archives\">\n",
      "        Archives\n",
      "       </a>\n",
      "      </li>\n",
      "      <li>\n",
      "       <a accesskey=\"2\" href=\"recent\" title=\"Recent\">\n",
      "        Recent\n",
      "       </a>\n",
      "      </li>\n",
      "      <li>\n",
      "       <a accesskey=\"3\" href=\"news\" title=\"News\">\n",
      "        News\n",
      "       </a>\n",
      "      </li>\n",
      "      <li>\n",
      "       <a accesskey=\"4\" href=\"register\" title=\"Register\">\n",
      "        Register\n",
      "       </a>\n",
      "      </li>\n",
      "      <li>\n",
      "       <a accesskey=\"5\" href=\"sign_in\" title=\"Sign In\">\n",
      "        Sign In\n",
      "       </a>\n",
      "      </li>\n",
      "     </ul>\n",
      "    </div>\n",
      "    <div class=\"noprint\" id=\"logo\">\n",
      "     <div>\n",
      "      Project Euler\n",
      "      <span>\n",
      "       .net\n",
      "      </span>\n",
      "     </div>\n",
      "    </div>\n",
      "   </div>\n",
      "   <div id=\"info_panel\">\n",
      "    <a href=\"search\">\n",
      "     <img alt=\"Search Problems\" src=\"images/icon_search.png\" title=\"Search Problems\"/>\n",
      "    </a>\n",
      "    <a href=\"rss2_euler.xml\">\n",
      "     <img alt=\"RSS Feed\" src=\"images/icon_rss.png\" title=\"RSS Feed\"/>\n",
      "    </a>\n",
      "   </div>\n",
      "   <div id=\"content\">\n",
      "    <div class=\"print\" style=\"text-align:center;\">\n",
      "     <img alt=\"projecteuler.net\" src=\"images/print_page_logo.png\" style=\"border:none;\"/>\n",
      "    </div>\n",
      "    <h2>\n",
      "     Maximum path sum I\n",
      "    </h2>\n",
      "    <div id=\"problem_info\">\n",
      "     <h3>\n",
      "      Problem 18\n",
      "      <span class=\"info noprint\" style=\"float:right;\">\n",
      "       <img src=\"images/icon_info.png\" style=\"width:18px;opacity:0.7;\"/>\n",
      "       <span style=\"left:-400px;width:450px;font-size:80%;\">\n",
      "        Published on Friday, 31st May 2002, 06:00 pm; Solved by 120786;\n",
      "        <br/>\n",
      "        Difficulty rating: 5%\n",
      "       </span>\n",
      "      </span>\n",
      "     </h3>\n",
      "    </div>\n",
      "    <div class=\"problem_content\" role=\"problem\">\n",
      "     <p>\n",
      "      By starting at the top of the triangle below and moving to adjacent numbers on the row below, the maximum total from top to bottom is 23.\n",
      "     </p>\n",
      "     <p style=\"text-align:center;font-family:'courier new';font-size:12pt;\">\n",
      "      <span style=\"color:#ff0000;\">\n",
      "       <b>\n",
      "        3\n",
      "       </b>\n",
      "      </span>\n",
      "      <br/>\n",
      "      <span style=\"color:#ff0000;\">\n",
      "       <b>\n",
      "        7\n",
      "       </b>\n",
      "      </span>\n",
      "      4\n",
      "      <br/>\n",
      "      2\n",
      "      <span style=\"color:#ff0000;\">\n",
      "       <b>\n",
      "        4\n",
      "       </b>\n",
      "      </span>\n",
      "      6\n",
      "      <br/>\n",
      "      8 5\n",
      "      <span style=\"color:#ff0000;\">\n",
      "       <b>\n",
      "        9\n",
      "       </b>\n",
      "      </span>\n",
      "      3\n",
      "     </p>\n",
      "     <p>\n",
      "      That is, 3 + 7 + 4 + 9 = 23.\n",
      "     </p>\n",
      "     <p>\n",
      "      Find the maximum total from top to bottom of the triangle below:\n",
      "     </p>\n",
      "     <p style=\"text-align:center;font-family:'courier new';\">\n",
      "      75\n",
      "      <br/>\n",
      "      95 64\n",
      "      <br/>\n",
      "      17 47 82\n",
      "      <br/>\n",
      "      18 35 87 10\n",
      "      <br/>\n",
      "      20 04 82 47 65\n",
      "      <br/>\n",
      "      19 01 23 75 03 34\n",
      "      <br/>\n",
      "      88 02 77 73 07 63 67\n",
      "      <br/>\n",
      "      99 65 04 28 06 16 70 92\n",
      "      <br/>\n",
      "      41 41 26 56 83 40 80 70 33\n",
      "      <br/>\n",
      "      41 48 72 33 47 32 37 16 94 29\n",
      "      <br/>\n",
      "      53 71 44 65 25 43 91 52 97 51 14\n",
      "      <br/>\n",
      "      70 11 33 28 77 73 17 78 39 68 17 57\n",
      "      <br/>\n",
      "      91 71 52 38 17 14 91 43 58 50 27 29 48\n",
      "      <br/>\n",
      "      63 66 04 68 89 53 67 30 73 16 69 87 40 31\n",
      "      <br/>\n",
      "      04 62 98 27 23 09 70 98 73 93 38 53 60 04 23\n",
      "     </p>\n",
      "     <p class=\"note\">\n",
      "      <b>\n",
      "       NOTE:\n",
      "      </b>\n",
      "      As there are only 16384 routes, it is possible to solve this problem by trying every route. However,\n",
      "      <a href=\"problem=67\">\n",
      "       Problem 67\n",
      "      </a>\n",
      "      , is the same challenge with a triangle containing one-hundred rows; it cannot be solved by brute force, and requires a clever method! ;o)\n",
      "     </p>\n",
      "    </div>\n",
      "    <br/>\n",
      "    <br/>\n",
      "   </div>\n",
      "   <div class=\"noprint\" id=\"footer\">\n",
      "    Project Euler:\n",
      "    <a href=\"copyright\">\n",
      "     Copyright Information\n",
      "    </a>\n",
      "    |\n",
      "    <a href=\"privacy\">\n",
      "     Privacy Policy\n",
      "    </a>\n",
      "    <!--/Creative Commons License-->\n",
      "    <!-- <rdf:RDF xmlns=\"http://web.resource.org/cc/\" xmlns:dc=\"http://purl.org/dc/elements/1.1/\" xmlns:rdf=\"http://www.w3.org/1999/02/22-rdf-syntax-ns#\" xmlns:rdfs=\"http://www.w3.org/2000/01/rdf-schema#\">\r\n",
      "   <Work rdf:about=\"\">\r\n",
      "      <license rdf:resource=\"http://creativecommons.org/licenses/by-nc-sa/2.0/uk/\" />\r\n",
      "   <dc:type rdf:resource=\"http://purl.org/dc/dcmitype/Text\" />\r\n",
      "   </Work>\r\n",
      "   <License rdf:about=\"http://creativecommons.org/licenses/by-nc-sa/2.0/uk/\"><permits rdf:resource=\"http://web.resource.org/cc/Reproduction\"/><permits rdf:resource=\"http://web.resource.org/cc/Distribution\"/><requires rdf:resource=\"http://web.resource.org/cc/Notice\"/><requires rdf:resource=\"http://web.resource.org/cc/Attribution\"/><prohibits rdf:resource=\"http://web.resource.org/cc/CommercialUse\"/><permits rdf:resource=\"http://web.resource.org/cc/DerivativeWorks\"/><requires rdf:resource=\"http://web.resource.org/cc/ShareAlike\"/></License></rdf:RDF> -->\n",
      "   </div>\n",
      "  </div>\n",
      " </body>\n",
      "</html>\n",
      "\n"
     ]
    }
   ],
   "source": [
    "import requests\n",
    "import re\n",
    "from bs4 import BeautifulSoup\n",
    "r = requests.get(\"https://projecteuler.net/problem=18\")\n",
    "soup = BeautifulSoup(r.text,'html.parser')\n",
    "print(soup.prettify())"
   ]
  },
  {
   "cell_type": "code",
   "execution_count": 130,
   "metadata": {},
   "outputs": [],
   "source": [
    "matrix_html_contents = soup.find_all('p')[4].contents\n",
    "matrix_data = [matrix_html_contents[i] for i in list(range(0,len(matrix_html_contents),2))]"
   ]
  },
  {
   "cell_type": "code",
   "execution_count": 131,
   "metadata": {},
   "outputs": [],
   "source": [
    "matrix_data = [i.split(\" \") for i in matrix_data]"
   ]
  },
  {
   "cell_type": "code",
   "execution_count": 132,
   "metadata": {},
   "outputs": [],
   "source": [
    "def strip_new_line(s):\n",
    "    if s[0] == '\\n':\n",
    "        return(s[1:])\n",
    "    else:\n",
    "        return s"
   ]
  },
  {
   "cell_type": "code",
   "execution_count": 133,
   "metadata": {},
   "outputs": [],
   "source": [
    "for i in range(len(matrix_data)):\n",
    "    matrix_data[i][0] = strip_new_line(matrix_data[i][0])"
   ]
  },
  {
   "cell_type": "code",
   "execution_count": 246,
   "metadata": {},
   "outputs": [],
   "source": [
    "def convert_to_int(list_of_str):\n",
    "    result = []\n",
    "    for ele in list_of_str:\n",
    "        result.append(int(ele))\n",
    "    return result"
   ]
  },
  {
   "cell_type": "code",
   "execution_count": 247,
   "metadata": {},
   "outputs": [],
   "source": [
    "final_matrix = list(map(convert_to_int,matrix_data))"
   ]
  },
  {
   "cell_type": "code",
   "execution_count": 248,
   "metadata": {},
   "outputs": [
    {
     "data": {
      "text/plain": [
       "[[75],\n",
       " [95, 64],\n",
       " [17, 47, 82],\n",
       " [18, 35, 87, 10],\n",
       " [20, 4, 82, 47, 65],\n",
       " [19, 1, 23, 75, 3, 34],\n",
       " [88, 2, 77, 73, 7, 63, 67],\n",
       " [99, 65, 4, 28, 6, 16, 70, 92],\n",
       " [41, 41, 26, 56, 83, 40, 80, 70, 33],\n",
       " [41, 48, 72, 33, 47, 32, 37, 16, 94, 29],\n",
       " [53, 71, 44, 65, 25, 43, 91, 52, 97, 51, 14],\n",
       " [70, 11, 33, 28, 77, 73, 17, 78, 39, 68, 17, 57],\n",
       " [91, 71, 52, 38, 17, 14, 91, 43, 58, 50, 27, 29, 48],\n",
       " [63, 66, 4, 68, 89, 53, 67, 30, 73, 16, 69, 87, 40, 31],\n",
       " [4, 62, 98, 27, 23, 9, 70, 98, 73, 93, 38, 53, 60, 4, 23]]"
      ]
     },
     "execution_count": 248,
     "metadata": {},
     "output_type": "execute_result"
    }
   ],
   "source": [
    "final_matrix"
   ]
  },
  {
   "cell_type": "code",
   "execution_count": 249,
   "metadata": {},
   "outputs": [
    {
     "data": {
      "text/plain": [
       "[170]"
      ]
     },
     "execution_count": 249,
     "metadata": {},
     "output_type": "execute_result"
    }
   ],
   "source": [
    "def get_max_sum(list_1,list_2):\n",
    "    '''list 1s length should be less than that of list 2s length'''\n",
    "    result = list_1[:]\n",
    "    for i in range(len(list_1)):\n",
    "        left = list_2[i] + list_1[i]\n",
    "        right = list_2[i + 1] + list_1[i]\n",
    "        if left > right:\n",
    "            result[i] = left\n",
    "        else:\n",
    "            result[i] = right\n",
    "    return result\n",
    "get_max_sum(final_matrix[0],final_matrix[1])"
   ]
  },
  {
   "cell_type": "code",
   "execution_count": 258,
   "metadata": {},
   "outputs": [],
   "source": [
    "def rec_row_sum(mat):\n",
    "    if len(mat) == 1:\n",
    "        return mat\n",
    "    else:\n",
    "        list_1 = mat[-1]\n",
    "        list_2 = mat[-2]\n",
    "        trans_list = get_max_sum(list_2,list_1)\n",
    "        mat.pop()\n",
    "        mat[-1] = trans_list\n",
    "        rec_row_sum(mat)\n",
    "    return mat[0][0]\n",
    "        \n",
    "    "
   ]
  },
  {
   "cell_type": "code",
   "execution_count": 259,
   "metadata": {},
   "outputs": [
    {
     "data": {
      "text/plain": [
       "1074"
      ]
     },
     "execution_count": 259,
     "metadata": {},
     "output_type": "execute_result"
    }
   ],
   "source": [
    "rec_row_sum(final_matrix[:])"
   ]
  },
  {
   "cell_type": "code",
   "execution_count": 260,
   "metadata": {},
   "outputs": [
    {
     "name": "stdout",
     "output_type": "stream",
     "text": [
      "23\n"
     ]
    }
   ],
   "source": [
    "test_list = [[3],[7,4],[2,4,6],[8,5,9,3]]\n",
    "print(rec_row_sum(test_list[:]))"
   ]
  },
  {
   "cell_type": "code",
   "execution_count": null,
   "metadata": {},
   "outputs": [],
   "source": []
  }
 ],
 "metadata": {
  "kernelspec": {
   "display_name": "Python 3",
   "language": "python",
   "name": "python3"
  },
  "language_info": {
   "codemirror_mode": {
    "name": "ipython",
    "version": 3
   },
   "file_extension": ".py",
   "mimetype": "text/x-python",
   "name": "python",
   "nbconvert_exporter": "python",
   "pygments_lexer": "ipython3",
   "version": "3.6.4"
  }
 },
 "nbformat": 4,
 "nbformat_minor": 2
}
