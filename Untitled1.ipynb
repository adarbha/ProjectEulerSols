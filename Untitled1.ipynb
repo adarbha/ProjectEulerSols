{
 "cells": [
  {
   "cell_type": "raw",
   "metadata": {},
   "source": [
    "The smallest number m such that 10 divides m! is m=5.\n",
    "The smallest number m such that 25 divides m! is m=10.\n",
    "\n",
    "Let s(n) be the smallest number m such that n divides m!.\n",
    "So s(10)=5 and s(25)=10.\n",
    "Let S(n) be ∑s(i) for 2 ≤ i ≤ n.\n",
    "S(100)=2012.\n",
    "\n",
    "Find S(108)."
   ]
  },
  {
   "cell_type": "code",
   "execution_count": 2,
   "metadata": {},
   "outputs": [
    {
     "name": "stdout",
     "output_type": "stream",
     "text": [
      "0 - 1.0\n",
      "1 - 1.0\n",
      "2 - 2.0\n",
      "3 - 6.0\n",
      "4 - 24.0\n",
      "5 - 120.0\n",
      "6 - 720.0\n",
      "7 - 5040.0\n",
      "8 - 40320.0\n",
      "9 - 362880.0\n",
      "10 - 3628800.0\n"
     ]
    }
   ],
   "source": [
    "from scipy.special import factorial\n",
    "for i in range(11):\n",
    "    print(\"{} - {}\".format(i,factorial(i)))"
   ]
  },
  {
   "cell_type": "code",
   "execution_count": 10,
   "metadata": {},
   "outputs": [
    {
     "data": {
      "text/plain": [
       "nan"
      ]
     },
     "execution_count": 10,
     "metadata": {},
     "output_type": "execute_result"
    }
   ],
   "source": [
    "factorial(2012) % 100"
   ]
  },
  {
   "cell_type": "code",
   "execution_count": null,
   "metadata": {},
   "outputs": [],
   "source": []
  }
 ],
 "metadata": {
  "kernelspec": {
   "display_name": "Python 3",
   "language": "python",
   "name": "python3"
  },
  "language_info": {
   "codemirror_mode": {
    "name": "ipython",
    "version": 3
   },
   "file_extension": ".py",
   "mimetype": "text/x-python",
   "name": "python",
   "nbconvert_exporter": "python",
   "pygments_lexer": "ipython3",
   "version": "3.6.2"
  }
 },
 "nbformat": 4,
 "nbformat_minor": 2
}
