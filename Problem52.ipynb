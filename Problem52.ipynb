{
 "cells": [
  {
   "cell_type": "markdown",
   "metadata": {},
   "source": [
    "It can be seen that the number, 125874, and its double, 251748, contain exactly the same digits, but in a different order.\n",
    "\n",
    "Find the smallest positive integer, x, such that 2x, 3x, 4x, 5x, and 6x, contain the same digits."
   ]
  },
  {
   "cell_type": "code",
   "execution_count": 27,
   "metadata": {},
   "outputs": [
    {
     "data": {
      "text/plain": [
       "1002"
      ]
     },
     "execution_count": 27,
     "metadata": {},
     "output_type": "execute_result"
    }
   ],
   "source": [
    "#From 1 to 1000 possible numbers are range(167)\n",
    "#From 1000 to 10000 possible numbers are range(1000,1667)\n",
    "#From 10000 to 100000 possible numbers are range(10000,16667) \n",
    "# Basically in a range (min,MAX_POSSIBLE) do range(min,MAX_POSSIBLE/6)"
   ]
  },
  {
   "cell_type": "code",
   "execution_count": 35,
   "metadata": {},
   "outputs": [
    {
     "data": {
      "text/plain": [
       "True"
      ]
     },
     "execution_count": 35,
     "metadata": {},
     "output_type": "execute_result"
    }
   ],
   "source": [
    "set(str(251748)) == set(str(125874))"
   ]
  },
  {
   "cell_type": "code",
   "execution_count": 43,
   "metadata": {},
   "outputs": [],
   "source": [
    "def check_same_digits(n1):\n",
    "    for mul in range(2,7):\n",
    "        if set(str(n1)) != set(str(mul * n1)):\n",
    "            return False\n",
    "        \n",
    "    return True"
   ]
  },
  {
   "cell_type": "code",
   "execution_count": 46,
   "metadata": {},
   "outputs": [
    {
     "name": "stdout",
     "output_type": "stream",
     "text": [
      "Checking range - 1,1000\n",
      "Checking range - 1000,10000\n",
      "Checking range - 10000,100000\n",
      "Checking range - 100000,1000000\n",
      "Voila! 142857\n"
     ]
    }
   ],
   "source": [
    "similarity_flag = False\n",
    "range_min = 1\n",
    "range_max = 1000\n",
    "\n",
    "while (not similarity_flag):\n",
    "    \n",
    "    print(\"Checking range - {},{}\".format(range_min,range_max))\n",
    "    \n",
    "    for i in range(range_min,int(range_max / 6)):\n",
    "        similarity_flag = check_same_digits(i)\n",
    "        if similarity_flag:\n",
    "            print(\"Voila! {}\".format(i))\n",
    "            break\n",
    "    \n",
    "    \n",
    "    range_min = range_max\n",
    "    range_max = 10 * range_max  "
   ]
  },
  {
   "cell_type": "code",
   "execution_count": 47,
   "metadata": {},
   "outputs": [
    {
     "name": "stdout",
     "output_type": "stream",
     "text": [
      "0 - 0\n",
      "1 - 142857\n",
      "2 - 285714\n",
      "3 - 428571\n",
      "4 - 571428\n",
      "5 - 714285\n",
      "6 - 857142\n"
     ]
    }
   ],
   "source": [
    "for mult in range(7):\n",
    "    print(\"{} - {}\".format(mult,mult * 142857))"
   ]
  },
  {
   "cell_type": "code",
   "execution_count": null,
   "metadata": {},
   "outputs": [],
   "source": []
  }
 ],
 "metadata": {
  "kernelspec": {
   "display_name": "Python 3",
   "language": "python",
   "name": "python3"
  },
  "language_info": {
   "codemirror_mode": {
    "name": "ipython",
    "version": 3
   },
   "file_extension": ".py",
   "mimetype": "text/x-python",
   "name": "python",
   "nbconvert_exporter": "python",
   "pygments_lexer": "ipython3",
   "version": "3.6.2"
  }
 },
 "nbformat": 4,
 "nbformat_minor": 2
}
