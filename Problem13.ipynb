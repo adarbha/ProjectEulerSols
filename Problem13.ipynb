{
 "cells": [
  {
   "cell_type": "code",
   "execution_count": 5,
   "metadata": {},
   "outputs": [],
   "source": [
    "import requests\n",
    "r = requests.get(\"https://projecteuler.net/problem=13\")\n",
    "#r.text"
   ]
  },
  {
   "cell_type": "code",
   "execution_count": 8,
   "metadata": {},
   "outputs": [],
   "source": [
    "from bs4 import BeautifulSoup\n",
    "bs = BeautifulSoup(r.text,\"html.parser\")\n"
   ]
  },
  {
   "cell_type": "code",
   "execution_count": 9,
   "metadata": {},
   "outputs": [
    {
     "data": {
      "text/plain": [
       "'<!DOCTYPE html>\\n<html lang=\"en\">\\n <head>\\n  <meta charset=\"utf-8\"/>\\n  <meta content=\"Colin Hughes\" name=\"author\"/>\\n  <meta content=\"A website dedicated to the fascinating world of mathematics and programming\" name=\"description\"/>\\n  <meta content=\"programming,mathematics,problems,puzzles\" name=\"keywords\"/>\\n  <title>\\n   Problem 13 - Project Euler\\n  </title>\\n  <link href=\"favicon.ico\" rel=\"shortcut icon\"/>\\n  <link href=\"themes/20180204/style_default.css\" rel=\"stylesheet\" type=\"text/css\"/>\\n  <script type=\"text/x-mathjax-config\">\\n   MathJax.Hub.Config({\\r\\n      jax: [\"input/TeX\", \"output/HTML-CSS\"],\\r\\n      tex2jax: {\\r\\n         inlineMath: [ [\"$\",\"$\"], [\"\\\\\\\\(\",\"\\\\\\\\)\"] ],\\r\\n         displayMath: [ [\"$$\",\"$$\"], [\"\\\\\\\\[\",\"\\\\\\\\]\"] ],\\r\\n         processEscapes: true\\r\\n      },\\r\\n      \"HTML-CSS\": { availableFonts: [\"TeX\"] }\\r\\n   });\\n  </script>\\n  <script async=\"\" src=\"https://cdnjs.cloudflare.com/ajax/libs/mathjax/2.7.1/MathJax.js?config=TeX-AMS_HTML-full,Safe\" type=\"text/javascript\">\\n  </script>\\n </head>\\n <body>\\n  <div id=\"container\">\\n   <div class=\"noprint\" id=\"header\">\\n    <div class=\"noprint\" id=\"nav\">\\n     <ul>\\n      <li>\\n       <a accesskey=\"h\" href=\"about\" title=\"About\">\\n        About\\n       </a>\\n      </li>\\n      <li id=\"current\">\\n       <a accesskey=\"1\" href=\"archives\" title=\"Archives\">\\n        Archives\\n       </a>\\n      </li>\\n      <li>\\n       <a accesskey=\"2\" href=\"recent\" title=\"Recent\">\\n        Recent\\n       </a>\\n      </li>\\n      <li>\\n       <a accesskey=\"3\" href=\"news\" title=\"News\">\\n        News\\n       </a>\\n      </li>\\n      <li>\\n       <a accesskey=\"4\" href=\"register\" title=\"Register\">\\n        Register\\n       </a>\\n      </li>\\n      <li>\\n       <a accesskey=\"5\" href=\"sign_in\" title=\"Sign In\">\\n        Sign In\\n       </a>\\n      </li>\\n     </ul>\\n    </div>\\n    <div class=\"noprint\" id=\"logo\">\\n     <div>\\n      Project Euler\\n      <span>\\n       .net\\n      </span>\\n     </div>\\n    </div>\\n   </div>\\n   <div id=\"info_panel\">\\n    <a href=\"search\">\\n     <img alt=\"Search Problems\" src=\"images/icon_search.png\" title=\"Search Problems\"/>\\n    </a>\\n    <a href=\"rss2_euler.xml\">\\n     <img alt=\"RSS Feed\" src=\"images/icon_rss.png\" title=\"RSS Feed\"/>\\n    </a>\\n   </div>\\n   <div id=\"content\">\\n    <div class=\"print\" style=\"text-align:center;\">\\n     <img alt=\"projecteuler.net\" src=\"images/print_page_logo.png\" style=\"border:none;\"/>\\n    </div>\\n    <h2>\\n     Large sum\\n    </h2>\\n    <div id=\"problem_info\">\\n     <h3>\\n      Problem 13\\n      <span class=\"info noprint\" style=\"float:right;\">\\n       <img src=\"images/icon_info.png\" style=\"width:18px;opacity:0.7;\"/>\\n       <span style=\"left:-400px;width:450px;font-size:80%;\">\\n        Published on Friday, 22nd March 2002, 06:00 pm; Solved by 182183;\\n        <br/>\\n        Difficulty rating: 5%\\n       </span>\\n      </span>\\n     </h3>\\n    </div>\\n    <div class=\"problem_content\" role=\"problem\">\\n     <p>\\n      Work out the first ten digits of the sum of the following one-hundred 50-digit numbers.\\n     </p>\\n     <div style=\"font-family:\\'courier new\\';font-size:10pt;text-align:center;\">\\n      37107287533902102798797998220837590246510135740250\\n      <br/>\\n      46376937677490009712648124896970078050417018260538\\n      <br/>\\n      74324986199524741059474233309513058123726617309629\\n      <br/>\\n      91942213363574161572522430563301811072406154908250\\n      <br/>\\n      23067588207539346171171980310421047513778063246676\\n      <br/>\\n      89261670696623633820136378418383684178734361726757\\n      <br/>\\n      28112879812849979408065481931592621691275889832738\\n      <br/>\\n      44274228917432520321923589422876796487670272189318\\n      <br/>\\n      47451445736001306439091167216856844588711603153276\\n      <br/>\\n      70386486105843025439939619828917593665686757934951\\n      <br/>\\n      62176457141856560629502157223196586755079324193331\\n      <br/>\\n      64906352462741904929101432445813822663347944758178\\n      <br/>\\n      92575867718337217661963751590579239728245598838407\\n      <br/>\\n      58203565325359399008402633568948830189458628227828\\n      <br/>\\n      80181199384826282014278194139940567587151170094390\\n      <br/>\\n      35398664372827112653829987240784473053190104293586\\n      <br/>\\n      86515506006295864861532075273371959191420517255829\\n      <br/>\\n      71693888707715466499115593487603532921714970056938\\n      <br/>\\n      54370070576826684624621495650076471787294438377604\\n      <br/>\\n      53282654108756828443191190634694037855217779295145\\n      <br/>\\n      36123272525000296071075082563815656710885258350721\\n      <br/>\\n      45876576172410976447339110607218265236877223636045\\n      <br/>\\n      17423706905851860660448207621209813287860733969412\\n      <br/>\\n      81142660418086830619328460811191061556940512689692\\n      <br/>\\n      51934325451728388641918047049293215058642563049483\\n      <br/>\\n      62467221648435076201727918039944693004732956340691\\n      <br/>\\n      15732444386908125794514089057706229429197107928209\\n      <br/>\\n      55037687525678773091862540744969844508330393682126\\n      <br/>\\n      18336384825330154686196124348767681297534375946515\\n      <br/>\\n      80386287592878490201521685554828717201219257766954\\n      <br/>\\n      78182833757993103614740356856449095527097864797581\\n      <br/>\\n      16726320100436897842553539920931837441497806860984\\n      <br/>\\n      48403098129077791799088218795327364475675590848030\\n      <br/>\\n      87086987551392711854517078544161852424320693150332\\n      <br/>\\n      59959406895756536782107074926966537676326235447210\\n      <br/>\\n      69793950679652694742597709739166693763042633987085\\n      <br/>\\n      41052684708299085211399427365734116182760315001271\\n      <br/>\\n      65378607361501080857009149939512557028198746004375\\n      <br/>\\n      35829035317434717326932123578154982629742552737307\\n      <br/>\\n      94953759765105305946966067683156574377167401875275\\n      <br/>\\n      88902802571733229619176668713819931811048770190271\\n      <br/>\\n      25267680276078003013678680992525463401061632866526\\n      <br/>\\n      36270218540497705585629946580636237993140746255962\\n      <br/>\\n      24074486908231174977792365466257246923322810917141\\n      <br/>\\n      91430288197103288597806669760892938638285025333403\\n      <br/>\\n      34413065578016127815921815005561868836468420090470\\n      <br/>\\n      23053081172816430487623791969842487255036638784583\\n      <br/>\\n      11487696932154902810424020138335124462181441773470\\n      <br/>\\n      63783299490636259666498587618221225225512486764533\\n      <br/>\\n      67720186971698544312419572409913959008952310058822\\n      <br/>\\n      95548255300263520781532296796249481641953868218774\\n      <br/>\\n      76085327132285723110424803456124867697064507995236\\n      <br/>\\n      37774242535411291684276865538926205024910326572967\\n      <br/>\\n      23701913275725675285653248258265463092207058596522\\n      <br/>\\n      29798860272258331913126375147341994889534765745501\\n      <br/>\\n      18495701454879288984856827726077713721403798879715\\n      <br/>\\n      38298203783031473527721580348144513491373226651381\\n      <br/>\\n      34829543829199918180278916522431027392251122869539\\n      <br/>\\n      40957953066405232632538044100059654939159879593635\\n      <br/>\\n      29746152185502371307642255121183693803580388584903\\n      <br/>\\n      41698116222072977186158236678424689157993532961922\\n      <br/>\\n      62467957194401269043877107275048102390895523597457\\n      <br/>\\n      23189706772547915061505504953922979530901129967519\\n      <br/>\\n      86188088225875314529584099251203829009407770775672\\n      <br/>\\n      11306739708304724483816533873502340845647058077308\\n      <br/>\\n      82959174767140363198008187129011875491310547126581\\n      <br/>\\n      97623331044818386269515456334926366572897563400500\\n      <br/>\\n      42846280183517070527831839425882145521227251250327\\n      <br/>\\n      55121603546981200581762165212827652751691296897789\\n      <br/>\\n      32238195734329339946437501907836945765883352399886\\n      <br/>\\n      75506164965184775180738168837861091527357929701337\\n      <br/>\\n      62177842752192623401942399639168044983993173312731\\n      <br/>\\n      32924185707147349566916674687634660915035914677504\\n      <br/>\\n      99518671430235219628894890102423325116913619626622\\n      <br/>\\n      73267460800591547471830798392868535206946944540724\\n      <br/>\\n      76841822524674417161514036427982273348055556214818\\n      <br/>\\n      97142617910342598647204516893989422179826088076852\\n      <br/>\\n      87783646182799346313767754307809363333018982642090\\n      <br/>\\n      10848802521674670883215120185883543223812876952786\\n      <br/>\\n      71329612474782464538636993009049310363619763878039\\n      <br/>\\n      62184073572399794223406235393808339651327408011116\\n      <br/>\\n      66627891981488087797941876876144230030984490851411\\n      <br/>\\n      60661826293682836764744779239180335110989069790714\\n      <br/>\\n      85786944089552990653640447425576083659976645795096\\n      <br/>\\n      66024396409905389607120198219976047599490197230297\\n      <br/>\\n      64913982680032973156037120041377903785566085089252\\n      <br/>\\n      16730939319872750275468906903707539413042652315011\\n      <br/>\\n      94809377245048795150954100921645863754710598436791\\n      <br/>\\n      78639167021187492431995700641917969777599028300699\\n      <br/>\\n      15368713711936614952811305876380278410754449733078\\n      <br/>\\n      40789923115535562561142322423255033685442488917353\\n      <br/>\\n      44889911501440648020369068063960672322193204149535\\n      <br/>\\n      41503128880339536053299340368006977710650566631954\\n      <br/>\\n      81234880673210146739058568557934581403627822703280\\n      <br/>\\n      82616570773948327592232845941706525094512325230608\\n      <br/>\\n      22918802058777319719839450180888072429661980811197\\n      <br/>\\n      77158542502016545090413245809786882778948721859617\\n      <br/>\\n      72107838435069186155435662884062257473692284509516\\n      <br/>\\n      20849603980134001723930671666823555245252804609722\\n      <br/>\\n      53503534226472524250874054075591789781264330331690\\n      <br/>\\n     </div>\\n    </div>\\n    <br/>\\n    <br/>\\n   </div>\\n   <div class=\"noprint\" id=\"footer\">\\n    Project Euler:\\n    <a href=\"copyright\">\\n     Copyright Information\\n    </a>\\n    |\\n    <a href=\"privacy\">\\n     Privacy Policy\\n    </a>\\n    <!--/Creative Commons License-->\\n    <!-- <rdf:RDF xmlns=\"http://web.resource.org/cc/\" xmlns:dc=\"http://purl.org/dc/elements/1.1/\" xmlns:rdf=\"http://www.w3.org/1999/02/22-rdf-syntax-ns#\" xmlns:rdfs=\"http://www.w3.org/2000/01/rdf-schema#\">\\r\\n   <Work rdf:about=\"\">\\r\\n      <license rdf:resource=\"http://creativecommons.org/licenses/by-nc-sa/2.0/uk/\" />\\r\\n   <dc:type rdf:resource=\"http://purl.org/dc/dcmitype/Text\" />\\r\\n   </Work>\\r\\n   <License rdf:about=\"http://creativecommons.org/licenses/by-nc-sa/2.0/uk/\"><permits rdf:resource=\"http://web.resource.org/cc/Reproduction\"/><permits rdf:resource=\"http://web.resource.org/cc/Distribution\"/><requires rdf:resource=\"http://web.resource.org/cc/Notice\"/><requires rdf:resource=\"http://web.resource.org/cc/Attribution\"/><prohibits rdf:resource=\"http://web.resource.org/cc/CommercialUse\"/><permits rdf:resource=\"http://web.resource.org/cc/DerivativeWorks\"/><requires rdf:resource=\"http://web.resource.org/cc/ShareAlike\"/></License></rdf:RDF> -->\\n   </div>\\n  </div>\\n </body>\\n</html>\\n'"
      ]
     },
     "execution_count": 9,
     "metadata": {},
     "output_type": "execute_result"
    }
   ],
   "source": [
    "bs.prettify()"
   ]
  },
  {
   "cell_type": "code",
   "execution_count": 18,
   "metadata": {},
   "outputs": [],
   "source": [
    "tags = bs.find(\"div\",class_=\"problem_content\")"
   ]
  },
  {
   "cell_type": "code",
   "execution_count": 30,
   "metadata": {},
   "outputs": [],
   "source": [
    "list_contents = tags.contents[3].contents"
   ]
  },
  {
   "cell_type": "code",
   "execution_count": 43,
   "metadata": {},
   "outputs": [],
   "source": [
    "res_arr = list()\n",
    "for lc in list_contents:\n",
    "    try:\n",
    "        res_arr.append(int(lc))\n",
    "    except:\n",
    "        pass\n",
    "    "
   ]
  },
  {
   "cell_type": "code",
   "execution_count": 47,
   "metadata": {},
   "outputs": [
    {
     "data": {
      "text/plain": [
       "'5537376230'"
      ]
     },
     "execution_count": 47,
     "metadata": {},
     "output_type": "execute_result"
    }
   ],
   "source": [
    "str(sum(res_arr))[:10]"
   ]
  },
  {
   "cell_type": "code",
   "execution_count": null,
   "metadata": {},
   "outputs": [],
   "source": []
  }
 ],
 "metadata": {
  "kernelspec": {
   "display_name": "Python 3",
   "language": "python",
   "name": "python3"
  },
  "language_info": {
   "codemirror_mode": {
    "name": "ipython",
    "version": 3
   },
   "file_extension": ".py",
   "mimetype": "text/x-python",
   "name": "python",
   "nbconvert_exporter": "python",
   "pygments_lexer": "ipython3",
   "version": "3.6.2"
  }
 },
 "nbformat": 4,
 "nbformat_minor": 2
}
