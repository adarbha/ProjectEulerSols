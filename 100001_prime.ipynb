{
 "cells": [
  {
   "cell_type": "code",
   "execution_count": 26,
   "metadata": {
    "collapsed": false
   },
   "outputs": [
    {
     "name": "stdout",
     "output_type": "stream",
     "text": [
      "This is the required prime\n",
      "104743\n"
     ]
    }
   ],
   "source": [
    "known_primes_under_100 = [2,3,5,7,11,13,17,19,23,29,31,37,41,43,47,53,59,61,67,71,73,79,83,89,97]\n",
    "\n",
    "start_from = 101\n",
    "\n",
    "#pi(100000) is 9592\n",
    "\n",
    "def check_if_prime(number):\n",
    "    \n",
    "    if (number % 10) == 0 or (number % 10) == 5:\n",
    "        return False\n",
    "    \n",
    "    for i in range(3,number,2):\n",
    "        \n",
    "        if i == 5 or i == 10:\n",
    "            continue\n",
    "        else:\n",
    "            if (number % i) == 0:\n",
    "                return False\n",
    "            \n",
    "    return True\n",
    "            \n",
    "\n",
    "count = 9592\n",
    "\n",
    "for i in range(100001,1000001,2):\n",
    "    if check_if_prime(i):\n",
    "        count = count + 1\n",
    "#         print(i)\n",
    "        \n",
    "    if count == 10001:\n",
    "        print(\"This is the required prime\")\n",
    "        print(i)\n",
    "        break\n",
    "        \n",
    "    \n",
    "        \n",
    "    \n",
    "    \n",
    "\n"
   ]
  },
  {
   "cell_type": "code",
   "execution_count": 22,
   "metadata": {
    "collapsed": false
   },
   "outputs": [
    {
     "data": {
      "text/plain": [
       "False"
      ]
     },
     "execution_count": 22,
     "metadata": {},
     "output_type": "execute_result"
    }
   ],
   "source": [
    "check_if_prime(100001)"
   ]
  }
 ],
 "metadata": {
  "kernelspec": {
   "display_name": "Python 3",
   "language": "python",
   "name": "python3"
  },
  "language_info": {
   "codemirror_mode": {
    "name": "ipython",
    "version": 3
   },
   "file_extension": ".py",
   "mimetype": "text/x-python",
   "name": "python",
   "nbconvert_exporter": "python",
   "pygments_lexer": "ipython3",
   "version": "3.6.0"
  }
 },
 "nbformat": 4,
 "nbformat_minor": 2
}
