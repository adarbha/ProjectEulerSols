{
 "cells": [
  {
   "cell_type": "markdown",
   "metadata": {},
   "source": [
    "The 5-digit number, 16807=75, is also a fifth power. Similarly, the 9-digit number, 134217728=89, is a ninth power.\n",
    "\n",
    "How many n-digit positive integers exist which are also an nth power?"
   ]
  },
  {
   "cell_type": "code",
   "execution_count": 76,
   "metadata": {},
   "outputs": [
    {
     "name": "stdout",
     "output_type": "stream",
     "text": [
      "Current base: 1\n",
      "Current base: 2\n",
      "Current base: 3\n",
      "Current base: 4\n",
      "Current base: 5\n",
      "Current base: 6\n",
      "Current base: 7\n",
      "Current base: 8\n",
      "Current base: 9\n",
      "Final count: 49\n"
     ]
    }
   ],
   "source": [
    "# Trend breaks at 10 ** 1, iterations should stop at 10 powers\n",
    "\n",
    "check_digit_len = lambda x:len(str(x))\n",
    "count = 0\n",
    "for i in range(1,10):\n",
    "    print(\"Current base: {}\".format(i))\n",
    "    power = 1\n",
    "    stop_iter = False\n",
    "    while (not stop_iter):\n",
    "        curr_num = i ** power\n",
    "        if check_digit_len(curr_num) == power:\n",
    "            count+=1\n",
    "            \n",
    "        if power > check_digit_len(curr_num):\n",
    "            stop_iter = True\n",
    "            \n",
    "        power+=1\n",
    "        \n",
    "        \n",
    "print(\"Final count: {}\".format(count))   "
   ]
  }
 ],
 "metadata": {
  "kernelspec": {
   "display_name": "Python 3",
   "language": "python",
   "name": "python3"
  },
  "language_info": {
   "codemirror_mode": {
    "name": "ipython",
    "version": 3
   },
   "file_extension": ".py",
   "mimetype": "text/x-python",
   "name": "python",
   "nbconvert_exporter": "python",
   "pygments_lexer": "ipython3",
   "version": "3.6.2"
  }
 },
 "nbformat": 4,
 "nbformat_minor": 2
}
