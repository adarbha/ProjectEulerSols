{
 "cells": [
  {
   "cell_type": "markdown",
   "metadata": {},
   "source": [
    "The number, 1406357289, is a 0 to 9 pandigital number because it is made up of each of the digits 0 to 9 in some order, but it also has a rather interesting sub-string divisibility property.\n",
    "\n",
    "Let d1 be the 1st digit, d2 be the 2nd digit, and so on. In this way, we note the following:\n",
    "\n",
    "d2d3d4=406 is divisible by 2\n",
    "d3d4d5=063 is divisible by 3\n",
    "d4d5d6=635 is divisible by 5\n",
    "d5d6d7=357 is divisible by 7\n",
    "d6d7d8=572 is divisible by 11\n",
    "d7d8d9=728 is divisible by 13\n",
    "d8d9d10=289 is divisible by 17\n",
    "Find the sum of all 0 to 9 pandigital numbers with this property."
   ]
  },
  {
   "cell_type": "code",
   "execution_count": 1,
   "metadata": {},
   "outputs": [
    {
     "data": {
      "text/plain": [
       "3265920.0"
      ]
     },
     "execution_count": 1,
     "metadata": {},
     "output_type": "execute_result"
    }
   ],
   "source": [
    "from scipy.special import factorial\n",
    "9 * factorial(9) # possible combinations"
   ]
  },
  {
   "cell_type": "code",
   "execution_count": 22,
   "metadata": {},
   "outputs": [],
   "source": [
    "def check_div_criterion(num):\n",
    "    PRIMES = [2,3,5,7,11,13,17]\n",
    "#     num = str(num)\n",
    "#     num is a tup for this problem\n",
    "    for i,prime in enumerate(PRIMES):\n",
    "        if (cal_number_from_tup(num[i+1:i+4]) % prime) != 0:            \n",
    "            return False\n",
    "        \n",
    "    return True\n",
    "\n",
    "def cal_number_from_tup(tup):\n",
    "    res = 0\n",
    "    for i,ele in enumerate(tup[::-1]):\n",
    "        res = res + int(ele) * (10 ** i) \n",
    "    return(res)\n",
    "    \n",
    "# check_div_criterion(1406357289)"
   ]
  },
  {
   "cell_type": "code",
   "execution_count": 25,
   "metadata": {},
   "outputs": [],
   "source": [
    "pan_sp = list()\n",
    "from itertools import permutations\n",
    "for num in permutations(range(10)):\n",
    "    \n",
    "    if num[0] == 0:\n",
    "        continue\n",
    "        \n",
    "    if check_div_criterion(num):\n",
    "        pan_sp.append(cal_number_from_tup(num))\n",
    "        "
   ]
  },
  {
   "cell_type": "code",
   "execution_count": 26,
   "metadata": {},
   "outputs": [
    {
     "data": {
      "text/plain": [
       "[1406357289, 1430952867, 1460357289, 4106357289, 4130952867, 4160357289]"
      ]
     },
     "execution_count": 26,
     "metadata": {},
     "output_type": "execute_result"
    }
   ],
   "source": [
    "pan_sp"
   ]
  },
  {
   "cell_type": "code",
   "execution_count": 30,
   "metadata": {},
   "outputs": [
    {
     "data": {
      "text/plain": [
       "16695334890"
      ]
     },
     "execution_count": 30,
     "metadata": {},
     "output_type": "execute_result"
    }
   ],
   "source": [
    "sum(pan_sp)"
   ]
  },
  {
   "cell_type": "code",
   "execution_count": null,
   "metadata": {},
   "outputs": [],
   "source": []
  }
 ],
 "metadata": {
  "kernelspec": {
   "display_name": "Python 3",
   "language": "python",
   "name": "python3"
  },
  "language_info": {
   "codemirror_mode": {
    "name": "ipython",
    "version": 3
   },
   "file_extension": ".py",
   "mimetype": "text/x-python",
   "name": "python",
   "nbconvert_exporter": "python",
   "pygments_lexer": "ipython3",
   "version": "3.6.2"
  }
 },
 "nbformat": 4,
 "nbformat_minor": 2
}
