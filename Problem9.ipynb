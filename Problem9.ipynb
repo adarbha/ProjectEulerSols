{
 "cells": [
  {
   "cell_type": "markdown",
   "metadata": {},
   "source": [
    "A Pythagorean triplet is a set of three natural numbers, a < b < c, for which,\n",
    "\n",
    "a2 + b2 = c2\n",
    "For example, 32 + 42 = 9 + 16 = 25 = 52.\n",
    "\n",
    "There exists exactly one Pythagorean triplet for which a + b + c = 1000.\n",
    "Find the product abc."
   ]
  },
  {
   "cell_type": "code",
   "execution_count": 6,
   "metadata": {},
   "outputs": [],
   "source": [
    "from itertools import product,combinations_with_replacement\n",
    "import numpy as np\n",
    "result = []\n",
    "for a,b in product(np.arange(1,1001),repeat=2):\n",
    "    c = 1000 - a - b\n",
    "    result.append((a,b,c))\n",
    "    "
   ]
  },
  {
   "cell_type": "code",
   "execution_count": 15,
   "metadata": {},
   "outputs": [],
   "source": [
    "all_combs = []\n",
    "for a,b in combinations_with_replacement(np.arange(1,1001),2):\n",
    "    c = 1000 - (a + b)\n",
    "    if c > 0:\n",
    "        all_combs.append((a,b,c))  \n",
    "    "
   ]
  },
  {
   "cell_type": "code",
   "execution_count": 20,
   "metadata": {},
   "outputs": [
    {
     "name": "stdout",
     "output_type": "stream",
     "text": [
      "31875000\n",
      "a: 200,b: 375,c: 425\n"
     ]
    }
   ],
   "source": [
    "for a,b,c in all_combs:\n",
    "    if (a ** 2 + b ** 2) == (c ** 2):\n",
    "        print(a*b*c)\n",
    "        print(\"a: {},b: {},c: {}\".format(a,b,c))"
   ]
  }
 ],
 "metadata": {
  "kernelspec": {
   "display_name": "Python 3",
   "language": "python",
   "name": "python3"
  },
  "language_info": {
   "codemirror_mode": {
    "name": "ipython",
    "version": 3
   },
   "file_extension": ".py",
   "mimetype": "text/x-python",
   "name": "python",
   "nbconvert_exporter": "python",
   "pygments_lexer": "ipython3",
   "version": "3.6.2"
  }
 },
 "nbformat": 4,
 "nbformat_minor": 2
}
