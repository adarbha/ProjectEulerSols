{
 "cells": [
  {
   "cell_type": "code",
   "execution_count": 37,
   "metadata": {},
   "outputs": [],
   "source": [
    "import requests\n",
    "from bs4 import BeautifulSoup\n",
    "r = requests.get(\"https://projecteuler.net/project/resources/p067_triangle.txt\")\n",
    "soup = BeautifulSoup(r.text,\"html.parser\")"
   ]
  },
  {
   "cell_type": "code",
   "execution_count": 38,
   "metadata": {},
   "outputs": [],
   "source": [
    "first_split = str(soup.contents[0]).split(\"\\n\")\n",
    "final_split = [i.split(\" \") for i in first_split]\n",
    "def convert_to_int(list_of_str):\n",
    "    result = []\n",
    "    for ele in list_of_str:\n",
    "        result.append(int(ele))\n",
    "    return result\n",
    "final_split = list(map(convert_to_int,final_split[:-1]))"
   ]
  },
  {
   "cell_type": "code",
   "execution_count": 39,
   "metadata": {},
   "outputs": [],
   "source": [
    "def get_max_sum(list_1,list_2):\n",
    "    '''list 1s length should be less than that of list 2s length'''\n",
    "    result = list_1[:]\n",
    "    for i in range(len(list_1)):\n",
    "        left = list_2[i] + list_1[i]\n",
    "        right = list_2[i + 1] + list_1[i]\n",
    "        if left > right:\n",
    "            result[i] = left\n",
    "        else:\n",
    "            result[i] = right\n",
    "    return result\n",
    "# get_max_sum(final_split[-1],final_split[-2])\n",
    "\n",
    "def rec_row_sum(mat):\n",
    "    if len(mat) == 1:\n",
    "        return mat\n",
    "    else:\n",
    "        list_1 = mat[-1]\n",
    "        list_2 = mat[-2]\n",
    "        trans_list = get_max_sum(list_2,list_1)\n",
    "        mat.pop()\n",
    "        mat[-1] = trans_list\n",
    "        rec_row_sum(mat)\n",
    "    return mat[0][0]"
   ]
  },
  {
   "cell_type": "code",
   "execution_count": 40,
   "metadata": {},
   "outputs": [
    {
     "data": {
      "text/plain": [
       "7273"
      ]
     },
     "execution_count": 40,
     "metadata": {},
     "output_type": "execute_result"
    }
   ],
   "source": [
    "rec_row_sum(final_split[:])"
   ]
  },
  {
   "cell_type": "code",
   "execution_count": null,
   "metadata": {},
   "outputs": [],
   "source": []
  }
 ],
 "metadata": {
  "kernelspec": {
   "display_name": "Python 3",
   "language": "python",
   "name": "python3"
  },
  "language_info": {
   "codemirror_mode": {
    "name": "ipython",
    "version": 3
   },
   "file_extension": ".py",
   "mimetype": "text/x-python",
   "name": "python",
   "nbconvert_exporter": "python",
   "pygments_lexer": "ipython3",
   "version": "3.6.4"
  }
 },
 "nbformat": 4,
 "nbformat_minor": 2
}
